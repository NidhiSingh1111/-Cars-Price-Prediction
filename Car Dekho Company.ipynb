{
 "cells": [
  {
   "cell_type": "code",
   "execution_count": 1,
   "id": "e6215b80",
   "metadata": {},
   "outputs": [],
   "source": [
    "# Importing Necessary Modules\n",
    "import numpy as np\n",
    "import pandas as pd\n",
    "import matplotlib.pyplot as plt\n",
    "import seaborn as sns\n"
   ]
  },
  {
   "cell_type": "code",
   "execution_count": 2,
   "id": "02c4009c",
   "metadata": {
    "scrolled": true
   },
   "outputs": [],
   "source": [
    "# Opening the excel file and storing data in 'df'\n",
    "df =pd.read_excel('car_data.xlsx ')"
   ]
  },
  {
   "cell_type": "code",
   "execution_count": 3,
   "id": "044b9f8c",
   "metadata": {},
   "outputs": [
    {
     "data": {
      "text/html": [
       "<div>\n",
       "<style scoped>\n",
       "    .dataframe tbody tr th:only-of-type {\n",
       "        vertical-align: middle;\n",
       "    }\n",
       "\n",
       "    .dataframe tbody tr th {\n",
       "        vertical-align: top;\n",
       "    }\n",
       "\n",
       "    .dataframe thead th {\n",
       "        text-align: right;\n",
       "    }\n",
       "</style>\n",
       "<table border=\"1\" class=\"dataframe\">\n",
       "  <thead>\n",
       "    <tr style=\"text-align: right;\">\n",
       "      <th></th>\n",
       "      <th>Vehicle_Type</th>\n",
       "      <th>Company</th>\n",
       "      <th>Vehicle_Name</th>\n",
       "      <th>Year</th>\n",
       "      <th>Selling_Price</th>\n",
       "      <th>Present_Price</th>\n",
       "      <th>Kms_Driven</th>\n",
       "      <th>Fuel_Type</th>\n",
       "      <th>Seller_Type</th>\n",
       "      <th>Transmission</th>\n",
       "      <th>Owner</th>\n",
       "    </tr>\n",
       "  </thead>\n",
       "  <tbody>\n",
       "    <tr>\n",
       "      <th>0</th>\n",
       "      <td>Car</td>\n",
       "      <td>Maruti Suzuki</td>\n",
       "      <td>ritz</td>\n",
       "      <td>2014</td>\n",
       "      <td>3.35</td>\n",
       "      <td>5.59</td>\n",
       "      <td>27000</td>\n",
       "      <td>Petrol</td>\n",
       "      <td>Dealer</td>\n",
       "      <td>Manual</td>\n",
       "      <td>0</td>\n",
       "    </tr>\n",
       "    <tr>\n",
       "      <th>1</th>\n",
       "      <td>Car</td>\n",
       "      <td>Maruti Suzuki</td>\n",
       "      <td>sx4</td>\n",
       "      <td>2013</td>\n",
       "      <td>4.75</td>\n",
       "      <td>9.54</td>\n",
       "      <td>43000</td>\n",
       "      <td>Diesel</td>\n",
       "      <td>Dealer</td>\n",
       "      <td>Manual</td>\n",
       "      <td>0</td>\n",
       "    </tr>\n",
       "    <tr>\n",
       "      <th>2</th>\n",
       "      <td>Car</td>\n",
       "      <td>Maruti Suzuki</td>\n",
       "      <td>ciaz</td>\n",
       "      <td>2017</td>\n",
       "      <td>7.25</td>\n",
       "      <td>9.85</td>\n",
       "      <td>6900</td>\n",
       "      <td>Petrol</td>\n",
       "      <td>Dealer</td>\n",
       "      <td>Manual</td>\n",
       "      <td>0</td>\n",
       "    </tr>\n",
       "    <tr>\n",
       "      <th>3</th>\n",
       "      <td>Car</td>\n",
       "      <td>Maruti Suzuki</td>\n",
       "      <td>wagon r</td>\n",
       "      <td>2011</td>\n",
       "      <td>2.85</td>\n",
       "      <td>4.15</td>\n",
       "      <td>5200</td>\n",
       "      <td>Petrol</td>\n",
       "      <td>Dealer</td>\n",
       "      <td>Manual</td>\n",
       "      <td>0</td>\n",
       "    </tr>\n",
       "    <tr>\n",
       "      <th>4</th>\n",
       "      <td>Car</td>\n",
       "      <td>Maruti Suzuki</td>\n",
       "      <td>swift</td>\n",
       "      <td>2014</td>\n",
       "      <td>4.60</td>\n",
       "      <td>6.87</td>\n",
       "      <td>42450</td>\n",
       "      <td>Diesel</td>\n",
       "      <td>Dealer</td>\n",
       "      <td>Manual</td>\n",
       "      <td>0</td>\n",
       "    </tr>\n",
       "    <tr>\n",
       "      <th>...</th>\n",
       "      <td>...</td>\n",
       "      <td>...</td>\n",
       "      <td>...</td>\n",
       "      <td>...</td>\n",
       "      <td>...</td>\n",
       "      <td>...</td>\n",
       "      <td>...</td>\n",
       "      <td>...</td>\n",
       "      <td>...</td>\n",
       "      <td>...</td>\n",
       "      <td>...</td>\n",
       "    </tr>\n",
       "    <tr>\n",
       "      <th>296</th>\n",
       "      <td>Car</td>\n",
       "      <td>Honda</td>\n",
       "      <td>city</td>\n",
       "      <td>2016</td>\n",
       "      <td>9.50</td>\n",
       "      <td>11.60</td>\n",
       "      <td>33988</td>\n",
       "      <td>Diesel</td>\n",
       "      <td>Dealer</td>\n",
       "      <td>Manual</td>\n",
       "      <td>0</td>\n",
       "    </tr>\n",
       "    <tr>\n",
       "      <th>297</th>\n",
       "      <td>Car</td>\n",
       "      <td>Honda</td>\n",
       "      <td>brio</td>\n",
       "      <td>2015</td>\n",
       "      <td>4.00</td>\n",
       "      <td>5.90</td>\n",
       "      <td>60000</td>\n",
       "      <td>Petrol</td>\n",
       "      <td>Dealer</td>\n",
       "      <td>Manual</td>\n",
       "      <td>0</td>\n",
       "    </tr>\n",
       "    <tr>\n",
       "      <th>298</th>\n",
       "      <td>Car</td>\n",
       "      <td>Honda</td>\n",
       "      <td>city</td>\n",
       "      <td>2009</td>\n",
       "      <td>3.35</td>\n",
       "      <td>11.00</td>\n",
       "      <td>87934</td>\n",
       "      <td>Petrol</td>\n",
       "      <td>Dealer</td>\n",
       "      <td>Manual</td>\n",
       "      <td>0</td>\n",
       "    </tr>\n",
       "    <tr>\n",
       "      <th>299</th>\n",
       "      <td>Car</td>\n",
       "      <td>Honda</td>\n",
       "      <td>city</td>\n",
       "      <td>2017</td>\n",
       "      <td>11.50</td>\n",
       "      <td>12.50</td>\n",
       "      <td>9000</td>\n",
       "      <td>Diesel</td>\n",
       "      <td>Dealer</td>\n",
       "      <td>Manual</td>\n",
       "      <td>0</td>\n",
       "    </tr>\n",
       "    <tr>\n",
       "      <th>300</th>\n",
       "      <td>Car</td>\n",
       "      <td>Honda</td>\n",
       "      <td>brio</td>\n",
       "      <td>2016</td>\n",
       "      <td>5.30</td>\n",
       "      <td>5.90</td>\n",
       "      <td>5464</td>\n",
       "      <td>Petrol</td>\n",
       "      <td>Dealer</td>\n",
       "      <td>Manual</td>\n",
       "      <td>0</td>\n",
       "    </tr>\n",
       "  </tbody>\n",
       "</table>\n",
       "<p>301 rows × 11 columns</p>\n",
       "</div>"
      ],
      "text/plain": [
       "    Vehicle_Type        Company Vehicle_Name  Year  Selling_Price  \\\n",
       "0            Car  Maruti Suzuki         ritz  2014           3.35   \n",
       "1            Car  Maruti Suzuki          sx4  2013           4.75   \n",
       "2            Car  Maruti Suzuki         ciaz  2017           7.25   \n",
       "3            Car  Maruti Suzuki      wagon r  2011           2.85   \n",
       "4            Car  Maruti Suzuki        swift  2014           4.60   \n",
       "..           ...            ...          ...   ...            ...   \n",
       "296          Car          Honda         city  2016           9.50   \n",
       "297          Car          Honda         brio  2015           4.00   \n",
       "298          Car          Honda         city  2009           3.35   \n",
       "299          Car          Honda         city  2017          11.50   \n",
       "300          Car          Honda         brio  2016           5.30   \n",
       "\n",
       "     Present_Price  Kms_Driven Fuel_Type Seller_Type Transmission  Owner  \n",
       "0             5.59       27000    Petrol      Dealer       Manual      0  \n",
       "1             9.54       43000    Diesel      Dealer       Manual      0  \n",
       "2             9.85        6900    Petrol      Dealer       Manual      0  \n",
       "3             4.15        5200    Petrol      Dealer       Manual      0  \n",
       "4             6.87       42450    Diesel      Dealer       Manual      0  \n",
       "..             ...         ...       ...         ...          ...    ...  \n",
       "296          11.60       33988    Diesel      Dealer       Manual      0  \n",
       "297           5.90       60000    Petrol      Dealer       Manual      0  \n",
       "298          11.00       87934    Petrol      Dealer       Manual      0  \n",
       "299          12.50        9000    Diesel      Dealer       Manual      0  \n",
       "300           5.90        5464    Petrol      Dealer       Manual      0  \n",
       "\n",
       "[301 rows x 11 columns]"
      ]
     },
     "execution_count": 3,
     "metadata": {},
     "output_type": "execute_result"
    }
   ],
   "source": [
    "# Showing Data\n",
    "df"
   ]
  },
  {
   "cell_type": "code",
   "execution_count": 4,
   "id": "1ff77803",
   "metadata": {},
   "outputs": [
    {
     "name": "stdout",
     "output_type": "stream",
     "text": [
      "<class 'pandas.core.frame.DataFrame'>\n",
      "RangeIndex: 301 entries, 0 to 300\n",
      "Data columns (total 11 columns):\n",
      " #   Column         Non-Null Count  Dtype  \n",
      "---  ------         --------------  -----  \n",
      " 0   Vehicle_Type   301 non-null    object \n",
      " 1   Company        301 non-null    object \n",
      " 2   Vehicle_Name   301 non-null    object \n",
      " 3   Year           301 non-null    int64  \n",
      " 4   Selling_Price  301 non-null    float64\n",
      " 5   Present_Price  301 non-null    float64\n",
      " 6   Kms_Driven     301 non-null    int64  \n",
      " 7   Fuel_Type      301 non-null    object \n",
      " 8   Seller_Type    301 non-null    object \n",
      " 9   Transmission   301 non-null    object \n",
      " 10  Owner          301 non-null    int64  \n",
      "dtypes: float64(2), int64(3), object(6)\n",
      "memory usage: 26.0+ KB\n"
     ]
    }
   ],
   "source": [
    "# Checking Data type\n",
    "df.info()"
   ]
  },
  {
   "cell_type": "code",
   "execution_count": 5,
   "id": "fcf34cdc",
   "metadata": {},
   "outputs": [
    {
     "data": {
      "text/html": [
       "<div>\n",
       "<style scoped>\n",
       "    .dataframe tbody tr th:only-of-type {\n",
       "        vertical-align: middle;\n",
       "    }\n",
       "\n",
       "    .dataframe tbody tr th {\n",
       "        vertical-align: top;\n",
       "    }\n",
       "\n",
       "    .dataframe thead th {\n",
       "        text-align: right;\n",
       "    }\n",
       "</style>\n",
       "<table border=\"1\" class=\"dataframe\">\n",
       "  <thead>\n",
       "    <tr style=\"text-align: right;\">\n",
       "      <th></th>\n",
       "      <th>Year</th>\n",
       "      <th>Selling_Price</th>\n",
       "      <th>Present_Price</th>\n",
       "      <th>Kms_Driven</th>\n",
       "      <th>Owner</th>\n",
       "    </tr>\n",
       "  </thead>\n",
       "  <tbody>\n",
       "    <tr>\n",
       "      <th>count</th>\n",
       "      <td>301.000000</td>\n",
       "      <td>301.000000</td>\n",
       "      <td>301.000000</td>\n",
       "      <td>301.000000</td>\n",
       "      <td>301.000000</td>\n",
       "    </tr>\n",
       "    <tr>\n",
       "      <th>mean</th>\n",
       "      <td>2013.627907</td>\n",
       "      <td>4.661296</td>\n",
       "      <td>7.628472</td>\n",
       "      <td>36947.205980</td>\n",
       "      <td>0.043189</td>\n",
       "    </tr>\n",
       "    <tr>\n",
       "      <th>std</th>\n",
       "      <td>2.891554</td>\n",
       "      <td>5.082812</td>\n",
       "      <td>8.644115</td>\n",
       "      <td>38886.883882</td>\n",
       "      <td>0.247915</td>\n",
       "    </tr>\n",
       "    <tr>\n",
       "      <th>min</th>\n",
       "      <td>2003.000000</td>\n",
       "      <td>0.100000</td>\n",
       "      <td>0.320000</td>\n",
       "      <td>500.000000</td>\n",
       "      <td>0.000000</td>\n",
       "    </tr>\n",
       "    <tr>\n",
       "      <th>25%</th>\n",
       "      <td>2012.000000</td>\n",
       "      <td>0.900000</td>\n",
       "      <td>1.200000</td>\n",
       "      <td>15000.000000</td>\n",
       "      <td>0.000000</td>\n",
       "    </tr>\n",
       "    <tr>\n",
       "      <th>50%</th>\n",
       "      <td>2014.000000</td>\n",
       "      <td>3.600000</td>\n",
       "      <td>6.400000</td>\n",
       "      <td>32000.000000</td>\n",
       "      <td>0.000000</td>\n",
       "    </tr>\n",
       "    <tr>\n",
       "      <th>75%</th>\n",
       "      <td>2016.000000</td>\n",
       "      <td>6.000000</td>\n",
       "      <td>9.900000</td>\n",
       "      <td>48767.000000</td>\n",
       "      <td>0.000000</td>\n",
       "    </tr>\n",
       "    <tr>\n",
       "      <th>max</th>\n",
       "      <td>2018.000000</td>\n",
       "      <td>35.000000</td>\n",
       "      <td>92.600000</td>\n",
       "      <td>500000.000000</td>\n",
       "      <td>3.000000</td>\n",
       "    </tr>\n",
       "  </tbody>\n",
       "</table>\n",
       "</div>"
      ],
      "text/plain": [
       "              Year  Selling_Price  Present_Price     Kms_Driven       Owner\n",
       "count   301.000000     301.000000     301.000000     301.000000  301.000000\n",
       "mean   2013.627907       4.661296       7.628472   36947.205980    0.043189\n",
       "std       2.891554       5.082812       8.644115   38886.883882    0.247915\n",
       "min    2003.000000       0.100000       0.320000     500.000000    0.000000\n",
       "25%    2012.000000       0.900000       1.200000   15000.000000    0.000000\n",
       "50%    2014.000000       3.600000       6.400000   32000.000000    0.000000\n",
       "75%    2016.000000       6.000000       9.900000   48767.000000    0.000000\n",
       "max    2018.000000      35.000000      92.600000  500000.000000    3.000000"
      ]
     },
     "execution_count": 5,
     "metadata": {},
     "output_type": "execute_result"
    }
   ],
   "source": [
    "# Checking data information\n",
    "df.describe()"
   ]
  },
  {
   "cell_type": "markdown",
   "id": "8438dc6b",
   "metadata": {},
   "source": [
    "# Performing EDA"
   ]
  },
  {
   "cell_type": "markdown",
   "id": "3055a1e6",
   "metadata": {},
   "source": [
    "# Checking Missing Values"
   ]
  },
  {
   "cell_type": "code",
   "execution_count": 6,
   "id": "4cb055a6",
   "metadata": {},
   "outputs": [
    {
     "data": {
      "text/plain": [
       "Vehicle_Type     0\n",
       "Company          0\n",
       "Vehicle_Name     0\n",
       "Year             0\n",
       "Selling_Price    0\n",
       "Present_Price    0\n",
       "Kms_Driven       0\n",
       "Fuel_Type        0\n",
       "Seller_Type      0\n",
       "Transmission     0\n",
       "Owner            0\n",
       "dtype: int64"
      ]
     },
     "execution_count": 6,
     "metadata": {},
     "output_type": "execute_result"
    }
   ],
   "source": [
    "df.isnull().sum()"
   ]
  },
  {
   "cell_type": "code",
   "execution_count": 7,
   "id": "46ef54c2",
   "metadata": {},
   "outputs": [
    {
     "data": {
      "text/plain": [
       "Vehicle_Type     0.0\n",
       "Company          0.0\n",
       "Vehicle_Name     0.0\n",
       "Year             0.0\n",
       "Selling_Price    0.0\n",
       "Present_Price    0.0\n",
       "Kms_Driven       0.0\n",
       "Fuel_Type        0.0\n",
       "Seller_Type      0.0\n",
       "Transmission     0.0\n",
       "Owner            0.0\n",
       "dtype: float64"
      ]
     },
     "execution_count": 7,
     "metadata": {},
     "output_type": "execute_result"
    }
   ],
   "source": [
    "(df.isnull().sum()/len(df))*100"
   ]
  },
  {
   "cell_type": "markdown",
   "id": "5cb732f3",
   "metadata": {},
   "source": [
    "# Checking Data Quality"
   ]
  },
  {
   "cell_type": "code",
   "execution_count": 8,
   "id": "dc88b0c2",
   "metadata": {},
   "outputs": [
    {
     "data": {
      "text/plain": [
       "array(['Car', 'Motorbike', 'Scooter'], dtype=object)"
      ]
     },
     "execution_count": 8,
     "metadata": {},
     "output_type": "execute_result"
    }
   ],
   "source": [
    "df['Vehicle_Type'].unique()"
   ]
  },
  {
   "cell_type": "code",
   "execution_count": 9,
   "id": "4514cdb5",
   "metadata": {},
   "outputs": [
    {
     "data": {
      "text/plain": [
       "array(['Maruti Suzuki', 'Toyota', 'Royal Enfield', 'UM Motorcycles',\n",
       "       'KTM', 'Bajaj', 'Hyosung Motors', 'Mahindra', 'Bajaj ', 'Honda ',\n",
       "       'Yamaha ', 'Honda', 'Yamaha', 'TVS', 'Hero', 'Bajaj Avenger',\n",
       "       'Hero ', 'Hero Honda', 'Suzuki', 'Hero  ', 'Hyundai'], dtype=object)"
      ]
     },
     "execution_count": 9,
     "metadata": {},
     "output_type": "execute_result"
    }
   ],
   "source": [
    "df['Company'].unique()"
   ]
  },
  {
   "cell_type": "code",
   "execution_count": 10,
   "id": "6e8e30c6",
   "metadata": {
    "scrolled": true
   },
   "outputs": [
    {
     "data": {
      "text/plain": [
       "array([2014, 2013, 2017, 2011, 2018, 2015, 2016, 2009, 2010, 2012, 2003,\n",
       "       2008, 2006, 2005, 2004, 2007], dtype=int64)"
      ]
     },
     "execution_count": 10,
     "metadata": {},
     "output_type": "execute_result"
    }
   ],
   "source": [
    "df['Year'].unique()"
   ]
  },
  {
   "cell_type": "code",
   "execution_count": 11,
   "id": "8eaf7e6d",
   "metadata": {},
   "outputs": [
    {
     "data": {
      "text/plain": [
       "array([ 5.59 ,  9.54 ,  9.85 ,  4.15 ,  6.87 ,  9.83 ,  8.12 ,  8.61 ,\n",
       "        8.89 ,  8.92 ,  3.6  , 10.38 ,  9.94 ,  7.71 ,  7.21 , 10.79 ,\n",
       "        5.09 ,  7.98 ,  3.95 ,  5.71 ,  8.01 ,  3.46 ,  4.41 ,  4.99 ,\n",
       "        5.87 ,  6.49 ,  5.98 ,  4.89 ,  7.49 ,  9.95 ,  8.06 ,  7.74 ,\n",
       "        7.2  ,  2.28 ,  3.76 ,  7.87 ,  3.98 ,  7.15 ,  2.69 , 12.04 ,\n",
       "        9.29 , 30.61 , 19.77 , 10.21 , 15.04 ,  7.27 , 18.54 ,  6.8  ,\n",
       "       35.96 , 18.61 ,  7.7  , 36.23 ,  6.95 , 23.15 , 20.45 , 13.74 ,\n",
       "       20.91 ,  6.76 , 12.48 ,  8.93 , 14.68 , 12.35 , 22.83 , 14.89 ,\n",
       "        7.85 , 25.39 , 13.46 , 23.73 , 92.6  ,  6.05 , 16.09 , 13.7  ,\n",
       "       22.78 , 18.64 ,  1.9  ,  1.82 ,  1.78 ,  1.6  ,  1.47 ,  2.37 ,\n",
       "        3.45 ,  1.5  ,  2.4  ,  1.4  ,  1.26 ,  1.17 ,  1.75 ,  0.95 ,\n",
       "        0.8  ,  0.87 ,  0.84 ,  0.82 ,  0.81 ,  0.74 ,  1.2  ,  0.787,\n",
       "        0.99 ,  0.94 ,  0.826,  0.55 ,  0.88 ,  0.51 ,  0.52 ,  0.54 ,\n",
       "        0.73 ,  0.83 ,  0.64 ,  0.72 ,  1.05 ,  0.57 ,  0.48 ,  0.58 ,\n",
       "        0.47 ,  0.75 ,  0.65 ,  0.32 ,  6.79 ,  5.7  ,  4.6  ,  4.43 ,\n",
       "        7.13 ,  8.1  , 14.79 , 13.6  ,  9.4  ,  7.6  ,  9.9  ,  6.82 ,\n",
       "        5.35 ,  7.   ,  5.97 ,  5.8  ,  8.7  , 10.   ,  7.5  ,  8.4  ,\n",
       "        5.9  , 14.   , 11.8  ,  8.5  ,  7.9  ,  6.4  ,  6.1  , 13.09 ,\n",
       "       11.6  , 11.   , 12.5  ])"
      ]
     },
     "execution_count": 11,
     "metadata": {},
     "output_type": "execute_result"
    }
   ],
   "source": [
    "df['Present_Price'].unique()"
   ]
  },
  {
   "cell_type": "code",
   "execution_count": 12,
   "id": "6f6001b7",
   "metadata": {},
   "outputs": [
    {
     "data": {
      "text/plain": [
       "array([ 3.35,  4.75,  7.25,  2.85,  4.6 ,  9.25,  6.75,  6.5 ,  8.75,\n",
       "        7.45,  6.85,  7.5 ,  6.1 ,  2.25,  7.75,  3.25,  2.65,  4.9 ,\n",
       "        4.4 ,  2.5 ,  2.9 ,  3.  ,  4.15,  6.  ,  1.95,  3.1 ,  2.35,\n",
       "        4.95,  5.5 ,  2.95,  4.65,  0.35,  5.85,  2.55,  1.25,  1.05,\n",
       "        5.8 , 14.9 , 23.  , 18.  , 16.  ,  2.75,  3.6 ,  4.5 ,  4.1 ,\n",
       "       19.99,  6.95, 18.75, 23.5 , 33.  , 19.75,  4.35, 14.25,  3.95,\n",
       "        1.5 ,  5.25, 14.5 , 14.73, 12.5 ,  3.49, 35.  ,  5.9 ,  3.45,\n",
       "        3.8 , 11.25,  3.51,  4.  , 20.75, 17.  ,  7.05,  9.65,  1.75,\n",
       "        1.7 ,  1.65,  1.45,  1.35,  1.2 ,  1.15,  1.11,  1.1 ,  1.  ,\n",
       "        0.95,  0.9 ,  0.75,  0.8 ,  0.78,  0.72,  0.65,  0.6 ,  0.55,\n",
       "        0.52,  0.51,  0.5 ,  0.48,  0.45,  0.42,  0.4 ,  0.38,  0.31,\n",
       "        0.3 ,  0.27,  0.25,  0.2 ,  0.18,  0.17,  0.16,  0.15,  0.12,\n",
       "        0.1 ,  5.75,  5.15,  7.9 ,  4.85, 11.75,  3.15,  6.45,  3.5 ,\n",
       "        8.25,  5.11,  2.7 ,  6.15, 11.45,  3.9 ,  9.1 ,  4.8 ,  2.  ,\n",
       "        5.35,  6.25,  5.95,  5.2 ,  3.75, 12.9 ,  5.  ,  5.4 ,  7.2 ,\n",
       "       10.25,  8.5 ,  8.4 ,  9.15,  6.6 ,  3.65,  8.35,  6.7 ,  5.3 ,\n",
       "       10.9 ,  8.65,  9.7 ,  2.1 ,  8.99,  7.4 ,  5.65, 10.11,  6.4 ,\n",
       "        8.55,  9.5 , 11.5 ])"
      ]
     },
     "execution_count": 12,
     "metadata": {},
     "output_type": "execute_result"
    }
   ],
   "source": [
    "df['Selling_Price'].unique()"
   ]
  },
  {
   "cell_type": "code",
   "execution_count": 13,
   "id": "d69cf76f",
   "metadata": {},
   "outputs": [
    {
     "data": {
      "text/plain": [
       "array(['Manual', 'Automatic'], dtype=object)"
      ]
     },
     "execution_count": 13,
     "metadata": {},
     "output_type": "execute_result"
    }
   ],
   "source": [
    "df['Transmission'].unique()"
   ]
  },
  {
   "cell_type": "code",
   "execution_count": 14,
   "id": "a130ddee",
   "metadata": {},
   "outputs": [
    {
     "data": {
      "text/plain": [
       "array(['Dealer', 'Individual'], dtype=object)"
      ]
     },
     "execution_count": 14,
     "metadata": {},
     "output_type": "execute_result"
    }
   ],
   "source": [
    "df['Seller_Type'].unique()"
   ]
  },
  {
   "cell_type": "code",
   "execution_count": 15,
   "id": "560ac9db",
   "metadata": {},
   "outputs": [
    {
     "data": {
      "text/plain": [
       "array(['Petrol', 'Diesel', 'CNG'], dtype=object)"
      ]
     },
     "execution_count": 15,
     "metadata": {},
     "output_type": "execute_result"
    }
   ],
   "source": [
    "df['Fuel_Type'].unique()"
   ]
  },
  {
   "cell_type": "code",
   "execution_count": 16,
   "id": "71936fa5",
   "metadata": {},
   "outputs": [
    {
     "data": {
      "text/plain": [
       "array([0, 1, 3], dtype=int64)"
      ]
     },
     "execution_count": 16,
     "metadata": {},
     "output_type": "execute_result"
    }
   ],
   "source": [
    "df['Owner'].unique()"
   ]
  },
  {
   "cell_type": "code",
   "execution_count": 17,
   "id": "41b2d05b",
   "metadata": {},
   "outputs": [
    {
     "data": {
      "text/plain": [
       "array([ 27000,  43000,   6900,   5200,  42450,   2071,  18796,  33429,\n",
       "        20273,  42367,   2135,  51000,  15000,  26000,  77427,  41678,\n",
       "        35500,  41442,  25000,   2400,  50000,  45280,  56879,  20000,\n",
       "        55138,  16200,  44542,  45000,  51439,  54200,  39000,  49998,\n",
       "        48767, 127000,  10079,  62000,  24524,  46706,  58000,  45780,\n",
       "        64532,  65000,  25870,  37000, 104707,  40000, 135000,  90000,\n",
       "        70000,  40534,  39485,  41000,  40001,  40588,  78000,  47000,\n",
       "         6000,  11000,  59000,  88000,  12000,  71000,  56001,  83000,\n",
       "        36000,  72000, 135154,  80000,  89000,  23000,  38000, 197176,\n",
       "       142000,  56000,  58242,  75000,  29000,   8700,  50024,   3000,\n",
       "         1400,   4000,   1200,   4100,  21700,  16500,  18000,   7000,\n",
       "        35000,  17000,  17500,  33000,  14000,   5400,   5700,  46500,\n",
       "        11500,   1300,   5000,   3500,    500,  11800,  23500,  16000,\n",
       "        16600,  32000,  19000,  24000,  31000,  13000,   8000,   4300,\n",
       "         8600,  14500,   1000,  42000,   5500,   6700,  13700,  38600,\n",
       "        30000, 213000,  60000,  21000,   1900,  22000,  55000,  49000,\n",
       "       500000,  53000,  92233,  28200,  53460,  28282,   3493,  12479,\n",
       "        34797,   3435,  21125,  35775,  43535,  22671,  31604,  20114,\n",
       "        36100,  12500,  45078,  38488,  77632,  61381,  36198,  22517,\n",
       "        24678,  57000,  52132,  15001,  12900,   4492,  15141,  11849,\n",
       "        68000,  60241,  23709,  32322,  35866,  34000,  35934,  56701,\n",
       "        31427,  48000,  54242,  53675,  49562,  40324,  36054,  29223,\n",
       "         5600,  40023,  16002,  40026,  21200,  19434,  18828,  69341,\n",
       "        69562,  27600,  61203,  30753,  24800,  21780,  40126,  14465,\n",
       "        50456,  63000,   9010,   9800,  15059,  28569,  44000,  10980,\n",
       "        33019,  60076,  33988,  87934,   9000,   5464], dtype=int64)"
      ]
     },
     "execution_count": 17,
     "metadata": {},
     "output_type": "execute_result"
    }
   ],
   "source": [
    "df['Kms_Driven'].unique()"
   ]
  },
  {
   "cell_type": "code",
   "execution_count": 18,
   "id": "849e00b6",
   "metadata": {},
   "outputs": [
    {
     "data": {
      "text/plain": [
       "array(['ritz', 'sx4', 'ciaz', 'wagon r', 'swift', 'vitara brezza',\n",
       "       's cross', 'alto 800', 'ertiga', 'dzire', 'alto k10', 'ignis',\n",
       "       'baleno', 'omni', 'fortuner', 'innova', 'corolla altis',\n",
       "       'etios cross', 'etios g', 'etios liva', 'corolla', 'camry',\n",
       "       'land cruiser', 'Royal Enfield Thunder 500', 'UM Renegade Mojave',\n",
       "       'KTM RC200', 'Bajaj Dominar 400', 'Royal Enfield Classic 350',\n",
       "       'KTM RC390', 'Hyosung GT250R', 'Royal Enfield Thunder 350',\n",
       "       'KTM 390 Duke ', 'Mahindra Mojo XT300', 'Bajaj Pulsar RS200',\n",
       "       'Royal Enfield Bullet 350', 'Royal Enfield Classic 500',\n",
       "       'Bajaj Avenger 220', 'Bajaj Avenger 150', 'Honda CB Hornet 160R',\n",
       "       'Yamaha FZ S V 2.0', 'Yamaha FZ 16', 'TVS Apache RTR 160',\n",
       "       'Bajaj Pulsar 150', 'Honda CBR 150', 'Hero Extreme',\n",
       "       'Bajaj Avenger 220 dtsi', 'Bajaj Avenger 150 street',\n",
       "       'Yamaha FZ  v 2.0', 'Bajaj Pulsar  NS 200', 'Bajaj Pulsar 220 F',\n",
       "       'TVS Apache RTR 180', 'Hero Passion X pro', 'Bajaj Pulsar NS 200',\n",
       "       'Yamaha Fazer ', ' Activa 4G', 'TVS Sport ', 'Honda Dream Yuga ',\n",
       "       'Bajaj Avenger Street 220', 'Hero Splender iSmart', 'Activa 3g',\n",
       "       'Hero Passion Pro', 'Honda CB Trigger', 'Yamaha FZ S ',\n",
       "       'Bajaj Pulsar 135 LS', 'Activa 4g', 'Honda CB Unicorn',\n",
       "       'Hero Honda CBZ extreme', 'Honda Karizma', 'Activa 125',\n",
       "       'TVS Jupyter', 'Hero Honda Passion Pro', 'Hero Splender Plus',\n",
       "       'Honda CB Shine', 'Bajaj Discover 100', 'Suzuki Access 125',\n",
       "       'TVS Wego', 'Honda CB twister', 'Hero Glamour',\n",
       "       'Hero Super Splendor', 'Bajaj Discover 125', 'Hero Hunk',\n",
       "       'Hero  Ignitor Disc', 'Hero  CBZ Xtreme', 'Bajaj  ct 100', 'i20',\n",
       "       'grand i10', 'i10', 'eon', 'xcent', 'elantra', 'creta', 'verna',\n",
       "       'city', 'brio', 'amaze', 'jazz'], dtype=object)"
      ]
     },
     "execution_count": 18,
     "metadata": {},
     "output_type": "execute_result"
    }
   ],
   "source": [
    "df['Vehicle_Name'].unique()"
   ]
  },
  {
   "cell_type": "code",
   "execution_count": 19,
   "id": "80bb6b47",
   "metadata": {},
   "outputs": [],
   "source": [
    "df['Vehicle_Name']= df['Vehicle_Name'].str.strip().str.split(' ').str.slice(0,5).str.join(' ')\n"
   ]
  },
  {
   "cell_type": "code",
   "execution_count": 20,
   "id": "7f1b5465",
   "metadata": {},
   "outputs": [
    {
     "data": {
      "text/plain": [
       "array(['ritz', 'sx4', 'ciaz', 'wagon r', 'swift', 'vitara brezza',\n",
       "       's cross', 'alto 800', 'ertiga', 'dzire', 'alto k10', 'ignis',\n",
       "       'baleno', 'omni', 'fortuner', 'innova', 'corolla altis',\n",
       "       'etios cross', 'etios g', 'etios liva', 'corolla', 'camry',\n",
       "       'land cruiser', 'Royal Enfield Thunder 500', 'UM Renegade Mojave',\n",
       "       'KTM RC200', 'Bajaj Dominar 400', 'Royal Enfield Classic 350',\n",
       "       'KTM RC390', 'Hyosung GT250R', 'Royal Enfield Thunder 350',\n",
       "       'KTM 390 Duke', 'Mahindra Mojo XT300', 'Bajaj Pulsar RS200',\n",
       "       'Royal Enfield Bullet 350', 'Royal Enfield Classic 500',\n",
       "       'Bajaj Avenger 220', 'Bajaj Avenger 150', 'Honda CB Hornet 160R',\n",
       "       'Yamaha FZ S V 2.0', 'Yamaha FZ 16', 'TVS Apache RTR 160',\n",
       "       'Bajaj Pulsar 150', 'Honda CBR 150', 'Hero Extreme',\n",
       "       'Bajaj Avenger 220 dtsi', 'Bajaj Avenger 150 street',\n",
       "       'Yamaha FZ  v 2.0', 'Bajaj Pulsar  NS 200', 'Bajaj Pulsar 220 F',\n",
       "       'TVS Apache RTR 180', 'Hero Passion X pro', 'Bajaj Pulsar NS 200',\n",
       "       'Yamaha Fazer', 'Activa 4G', 'TVS Sport', 'Honda Dream Yuga',\n",
       "       'Bajaj Avenger Street 220', 'Hero Splender iSmart', 'Activa 3g',\n",
       "       'Hero Passion Pro', 'Honda CB Trigger', 'Yamaha FZ S',\n",
       "       'Bajaj Pulsar 135 LS', 'Activa 4g', 'Honda CB Unicorn',\n",
       "       'Hero Honda CBZ extreme', 'Honda Karizma', 'Activa 125',\n",
       "       'TVS Jupyter', 'Hero Honda Passion Pro', 'Hero Splender Plus',\n",
       "       'Honda CB Shine', 'Bajaj Discover 100', 'Suzuki Access 125',\n",
       "       'TVS Wego', 'Honda CB twister', 'Hero Glamour',\n",
       "       'Hero Super Splendor', 'Bajaj Discover 125', 'Hero Hunk',\n",
       "       'Hero  Ignitor Disc', 'Hero  CBZ Xtreme', 'Bajaj  ct 100', 'i20',\n",
       "       'grand i10', 'i10', 'eon', 'xcent', 'elantra', 'creta', 'verna',\n",
       "       'city', 'brio', 'amaze', 'jazz'], dtype=object)"
      ]
     },
     "execution_count": 20,
     "metadata": {},
     "output_type": "execute_result"
    }
   ],
   "source": [
    "df['Vehicle_Name'].unique()"
   ]
  },
  {
   "cell_type": "code",
   "execution_count": 21,
   "id": "725c23a2",
   "metadata": {},
   "outputs": [
    {
     "data": {
      "image/png": "[encoded data removed]",
      "text/plain": [
       "<Figure size 640x480 with 1 Axes>"
      ]
     },
     "metadata": {},
     "output_type": "display_data"
    }
   ],
   "source": [
    "sns.countplot(data=df,x='Seller_Type')\n",
    "plt.show()"
   ]
  },
  {
   "cell_type": "code",
   "execution_count": 22,
   "id": "439d4835",
   "metadata": {},
   "outputs": [
    {
     "data": {
      "image/png": "[encoded data removed]",
      "text/plain": [
       "<Figure size 640x480 with 1 Axes>"
      ]
     },
     "metadata": {},
     "output_type": "display_data"
    }
   ],
   "source": [
    "sns.barplot(data=df,y='Seller_Type',x='Selling_Price')\n",
    "plt.show()"
   ]
  },
  {
   "cell_type": "code",
   "execution_count": 23,
   "id": "9df97a69",
   "metadata": {},
   "outputs": [
    {
     "data": {
      "image/png": "[encoded data removed]",
      "text/plain": [
       "<Figure size 640x480 with 1 Axes>"
      ]
     },
     "metadata": {},
     "output_type": "display_data"
    }
   ],
   "source": [
    "sns.countplot(data=df,x='Fuel_Type')\n",
    "plt.show()"
   ]
  },
  {
   "cell_type": "code",
   "execution_count": 24,
   "id": "ddecfe66",
   "metadata": {},
   "outputs": [
    {
     "data": {
      "image/png": "[encoded data removed]",
      "text/plain": [
       "<Figure size 640x480 with 1 Axes>"
      ]
     },
     "metadata": {},
     "output_type": "display_data"
    }
   ],
   "source": [
    "sns.barplot(data=df,y='Fuel_Type',x='Selling_Price')\n",
    "plt.show()"
   ]
  },
  {
   "cell_type": "code",
   "execution_count": 25,
   "id": "ac965074",
   "metadata": {},
   "outputs": [
    {
     "data": {
      "image/png": "[encoded data removed]",
      "text/plain": [
       "<Figure size 640x480 with 1 Axes>"
      ]
     },
     "metadata": {},
     "output_type": "display_data"
    }
   ],
   "source": [
    "sns.countplot(data=df,x='Transmission')\n",
    "plt.show()"
   ]
  },
  {
   "cell_type": "code",
   "execution_count": 26,
   "id": "5c110641",
   "metadata": {},
   "outputs": [
    {
     "data": {
      "image/png": "[encoded data removed]",
      "text/plain": [
       "<Figure size 640x480 with 1 Axes>"
      ]
     },
     "metadata": {},
     "output_type": "display_data"
    }
   ],
   "source": [
    "sns.barplot(data=df,y='Transmission',x='Selling_Price')\n",
    "plt.show()"
   ]
  },
  {
   "cell_type": "code",
   "execution_count": 27,
   "id": "b73ff671",
   "metadata": {},
   "outputs": [
    {
     "name": "stderr",
     "output_type": "stream",
     "text": [
      "C:\\Users\\hp\\anaconda3\\Lib\\site-packages\\seaborn\\axisgrid.py:118: UserWarning: The figure layout has changed to tight\n",
      "  self._figure.tight_layout(*args, **kwargs)\n"
     ]
    },
    {
     "data": {
      "image/png": "[encoded data removed]",
      "text/plain": [
       "<Figure size 500x500 with 1 Axes>"
      ]
     },
     "metadata": {},
     "output_type": "display_data"
    }
   ],
   "source": [
    "sns.lmplot(data=df,x='Kms_Driven',y='Selling_Price')\n",
    "plt.show()"
   ]
  },
  {
   "cell_type": "code",
   "execution_count": 28,
   "id": "770d40eb",
   "metadata": {},
   "outputs": [
    {
     "data": {
      "text/html": [
       "<div>\n",
       "<style scoped>\n",
       "    .dataframe tbody tr th:only-of-type {\n",
       "        vertical-align: middle;\n",
       "    }\n",
       "\n",
       "    .dataframe tbody tr th {\n",
       "        vertical-align: top;\n",
       "    }\n",
       "\n",
       "    .dataframe thead th {\n",
       "        text-align: right;\n",
       "    }\n",
       "</style>\n",
       "<table border=\"1\" class=\"dataframe\">\n",
       "  <thead>\n",
       "    <tr style=\"text-align: right;\">\n",
       "      <th></th>\n",
       "      <th>Vehicle_Type</th>\n",
       "      <th>Company</th>\n",
       "      <th>Vehicle_Name</th>\n",
       "      <th>Year</th>\n",
       "      <th>Selling_Price</th>\n",
       "      <th>Present_Price</th>\n",
       "      <th>Kms_Driven</th>\n",
       "      <th>Fuel_Type</th>\n",
       "      <th>Seller_Type</th>\n",
       "      <th>Transmission</th>\n",
       "      <th>Owner</th>\n",
       "    </tr>\n",
       "  </thead>\n",
       "  <tbody>\n",
       "    <tr>\n",
       "      <th>0</th>\n",
       "      <td>Car</td>\n",
       "      <td>Maruti Suzuki</td>\n",
       "      <td>ritz</td>\n",
       "      <td>2014</td>\n",
       "      <td>3.35</td>\n",
       "      <td>5.59</td>\n",
       "      <td>27000</td>\n",
       "      <td>Petrol</td>\n",
       "      <td>Dealer</td>\n",
       "      <td>Manual</td>\n",
       "      <td>0</td>\n",
       "    </tr>\n",
       "    <tr>\n",
       "      <th>1</th>\n",
       "      <td>Car</td>\n",
       "      <td>Maruti Suzuki</td>\n",
       "      <td>sx4</td>\n",
       "      <td>2013</td>\n",
       "      <td>4.75</td>\n",
       "      <td>9.54</td>\n",
       "      <td>43000</td>\n",
       "      <td>Diesel</td>\n",
       "      <td>Dealer</td>\n",
       "      <td>Manual</td>\n",
       "      <td>0</td>\n",
       "    </tr>\n",
       "    <tr>\n",
       "      <th>2</th>\n",
       "      <td>Car</td>\n",
       "      <td>Maruti Suzuki</td>\n",
       "      <td>ciaz</td>\n",
       "      <td>2017</td>\n",
       "      <td>7.25</td>\n",
       "      <td>9.85</td>\n",
       "      <td>6900</td>\n",
       "      <td>Petrol</td>\n",
       "      <td>Dealer</td>\n",
       "      <td>Manual</td>\n",
       "      <td>0</td>\n",
       "    </tr>\n",
       "    <tr>\n",
       "      <th>3</th>\n",
       "      <td>Car</td>\n",
       "      <td>Maruti Suzuki</td>\n",
       "      <td>wagon r</td>\n",
       "      <td>2011</td>\n",
       "      <td>2.85</td>\n",
       "      <td>4.15</td>\n",
       "      <td>5200</td>\n",
       "      <td>Petrol</td>\n",
       "      <td>Dealer</td>\n",
       "      <td>Manual</td>\n",
       "      <td>0</td>\n",
       "    </tr>\n",
       "    <tr>\n",
       "      <th>4</th>\n",
       "      <td>Car</td>\n",
       "      <td>Maruti Suzuki</td>\n",
       "      <td>swift</td>\n",
       "      <td>2014</td>\n",
       "      <td>4.60</td>\n",
       "      <td>6.87</td>\n",
       "      <td>42450</td>\n",
       "      <td>Diesel</td>\n",
       "      <td>Dealer</td>\n",
       "      <td>Manual</td>\n",
       "      <td>0</td>\n",
       "    </tr>\n",
       "    <tr>\n",
       "      <th>...</th>\n",
       "      <td>...</td>\n",
       "      <td>...</td>\n",
       "      <td>...</td>\n",
       "      <td>...</td>\n",
       "      <td>...</td>\n",
       "      <td>...</td>\n",
       "      <td>...</td>\n",
       "      <td>...</td>\n",
       "      <td>...</td>\n",
       "      <td>...</td>\n",
       "      <td>...</td>\n",
       "    </tr>\n",
       "    <tr>\n",
       "      <th>296</th>\n",
       "      <td>Car</td>\n",
       "      <td>Honda</td>\n",
       "      <td>city</td>\n",
       "      <td>2016</td>\n",
       "      <td>9.50</td>\n",
       "      <td>11.60</td>\n",
       "      <td>33988</td>\n",
       "      <td>Diesel</td>\n",
       "      <td>Dealer</td>\n",
       "      <td>Manual</td>\n",
       "      <td>0</td>\n",
       "    </tr>\n",
       "    <tr>\n",
       "      <th>297</th>\n",
       "      <td>Car</td>\n",
       "      <td>Honda</td>\n",
       "      <td>brio</td>\n",
       "      <td>2015</td>\n",
       "      <td>4.00</td>\n",
       "      <td>5.90</td>\n",
       "      <td>60000</td>\n",
       "      <td>Petrol</td>\n",
       "      <td>Dealer</td>\n",
       "      <td>Manual</td>\n",
       "      <td>0</td>\n",
       "    </tr>\n",
       "    <tr>\n",
       "      <th>298</th>\n",
       "      <td>Car</td>\n",
       "      <td>Honda</td>\n",
       "      <td>city</td>\n",
       "      <td>2009</td>\n",
       "      <td>3.35</td>\n",
       "      <td>11.00</td>\n",
       "      <td>87934</td>\n",
       "      <td>Petrol</td>\n",
       "      <td>Dealer</td>\n",
       "      <td>Manual</td>\n",
       "      <td>0</td>\n",
       "    </tr>\n",
       "    <tr>\n",
       "      <th>299</th>\n",
       "      <td>Car</td>\n",
       "      <td>Honda</td>\n",
       "      <td>city</td>\n",
       "      <td>2017</td>\n",
       "      <td>11.50</td>\n",
       "      <td>12.50</td>\n",
       "      <td>9000</td>\n",
       "      <td>Diesel</td>\n",
       "      <td>Dealer</td>\n",
       "      <td>Manual</td>\n",
       "      <td>0</td>\n",
       "    </tr>\n",
       "    <tr>\n",
       "      <th>300</th>\n",
       "      <td>Car</td>\n",
       "      <td>Honda</td>\n",
       "      <td>brio</td>\n",
       "      <td>2016</td>\n",
       "      <td>5.30</td>\n",
       "      <td>5.90</td>\n",
       "      <td>5464</td>\n",
       "      <td>Petrol</td>\n",
       "      <td>Dealer</td>\n",
       "      <td>Manual</td>\n",
       "      <td>0</td>\n",
       "    </tr>\n",
       "  </tbody>\n",
       "</table>\n",
       "<p>301 rows × 11 columns</p>\n",
       "</div>"
      ],
      "text/plain": [
       "    Vehicle_Type        Company Vehicle_Name  Year  Selling_Price  \\\n",
       "0            Car  Maruti Suzuki         ritz  2014           3.35   \n",
       "1            Car  Maruti Suzuki          sx4  2013           4.75   \n",
       "2            Car  Maruti Suzuki         ciaz  2017           7.25   \n",
       "3            Car  Maruti Suzuki      wagon r  2011           2.85   \n",
       "4            Car  Maruti Suzuki        swift  2014           4.60   \n",
       "..           ...            ...          ...   ...            ...   \n",
       "296          Car          Honda         city  2016           9.50   \n",
       "297          Car          Honda         brio  2015           4.00   \n",
       "298          Car          Honda         city  2009           3.35   \n",
       "299          Car          Honda         city  2017          11.50   \n",
       "300          Car          Honda         brio  2016           5.30   \n",
       "\n",
       "     Present_Price  Kms_Driven Fuel_Type Seller_Type Transmission  Owner  \n",
       "0             5.59       27000    Petrol      Dealer       Manual      0  \n",
       "1             9.54       43000    Diesel      Dealer       Manual      0  \n",
       "2             9.85        6900    Petrol      Dealer       Manual      0  \n",
       "3             4.15        5200    Petrol      Dealer       Manual      0  \n",
       "4             6.87       42450    Diesel      Dealer       Manual      0  \n",
       "..             ...         ...       ...         ...          ...    ...  \n",
       "296          11.60       33988    Diesel      Dealer       Manual      0  \n",
       "297           5.90       60000    Petrol      Dealer       Manual      0  \n",
       "298          11.00       87934    Petrol      Dealer       Manual      0  \n",
       "299          12.50        9000    Diesel      Dealer       Manual      0  \n",
       "300           5.90        5464    Petrol      Dealer       Manual      0  \n",
       "\n",
       "[301 rows x 11 columns]"
      ]
     },
     "execution_count": 28,
     "metadata": {},
     "output_type": "execute_result"
    }
   ],
   "source": [
    "df"
   ]
  },
  {
   "cell_type": "code",
   "execution_count": 29,
   "id": "c9a74bdc",
   "metadata": {},
   "outputs": [],
   "source": [
    "# Dividing the data into independent variable(X) and Dependent variable(Y)"
   ]
  },
  {
   "cell_type": "code",
   "execution_count": 30,
   "id": "e33c8889",
   "metadata": {},
   "outputs": [],
   "source": [
    "X= df.drop(columns='Selling_Price')\n",
    "y=df['Selling_Price']"
   ]
  },
  {
   "cell_type": "code",
   "execution_count": 31,
   "id": "c0ea7427",
   "metadata": {},
   "outputs": [],
   "source": [
    "# Transforming categorical data by OneHotEncoding Using Column Transformer"
   ]
  },
  {
   "cell_type": "code",
   "execution_count": 32,
   "id": "bf73296d",
   "metadata": {
    "scrolled": true
   },
   "outputs": [],
   "source": [
    "from sklearn.preprocessing import OneHotEncoder"
   ]
  },
  {
   "cell_type": "code",
   "execution_count": 33,
   "id": "97f2ba8e",
   "metadata": {},
   "outputs": [],
   "source": [
    "# Train-Test Split"
   ]
  },
  {
   "cell_type": "code",
   "execution_count": 34,
   "id": "8baeea5c",
   "metadata": {},
   "outputs": [],
   "source": [
    "from sklearn.model_selection import train_test_split\n",
    "X_train,X_test,y_train,y_test= train_test_split(X,y,test_size= 0.2)"
   ]
  },
  {
   "cell_type": "code",
   "execution_count": 35,
   "id": "3c667494",
   "metadata": {},
   "outputs": [
    {
     "data": {
      "text/plain": [
       "((240, 10), (61, 10))"
      ]
     },
     "execution_count": 35,
     "metadata": {},
     "output_type": "execute_result"
    }
   ],
   "source": [
    "X_train.shape , X_test.shape"
   ]
  },
  {
   "cell_type": "code",
   "execution_count": 36,
   "id": "f838f7c0",
   "metadata": {},
   "outputs": [
    {
     "data": {
      "text/html": [
       "<style>#sk-container-id-1 {color: black;}#sk-container-id-1 pre{padding: 0;}#sk-container-id-1 div.sk-toggleable {background-color: white;}#sk-container-id-1 label.sk-toggleable__label {cursor: pointer;display: block;width: 100%;margin-bottom: 0;padding: 0.3em;box-sizing: border-box;text-align: center;}#sk-container-id-1 label.sk-toggleable__label-arrow:before {content: \"▸\";float: left;margin-right: 0.25em;color: #696969;}#sk-container-id-1 label.sk-toggleable__label-arrow:hover:before {color: black;}#sk-container-id-1 div.sk-estimator:hover label.sk-toggleable__label-arrow:before {color: black;}#sk-container-id-1 div.sk-toggleable__content {max-height: 0;max-width: 0;overflow: hidden;text-align: left;background-color: #f0f8ff;}#sk-container-id-1 div.sk-toggleable__content pre {margin: 0.2em;color: black;border-radius: 0.25em;background-color: #f0f8ff;}#sk-container-id-1 input.sk-toggleable__control:checked~div.sk-toggleable__content {max-height: 200px;max-width: 100%;overflow: auto;}#sk-container-id-1 input.sk-toggleable__control:checked~label.sk-toggleable__label-arrow:before {content: \"▾\";}#sk-container-id-1 div.sk-estimator input.sk-toggleable__control:checked~label.sk-toggleable__label {background-color: #d4ebff;}#sk-container-id-1 div.sk-label input.sk-toggleable__control:checked~label.sk-toggleable__label {background-color: #d4ebff;}#sk-container-id-1 input.sk-hidden--visually {border: 0;clip: rect(1px 1px 1px 1px);clip: rect(1px, 1px, 1px, 1px);height: 1px;margin: -1px;overflow: hidden;padding: 0;position: absolute;width: 1px;}#sk-container-id-1 div.sk-estimator {font-family: monospace;background-color: #f0f8ff;border: 1px dotted black;border-radius: 0.25em;box-sizing: border-box;margin-bottom: 0.5em;}#sk-container-id-1 div.sk-estimator:hover {background-color: #d4ebff;}#sk-container-id-1 div.sk-parallel-item::after {content: \"\";width: 100%;border-bottom: 1px solid gray;flex-grow: 1;}#sk-container-id-1 div.sk-label:hover label.sk-toggleable__label {background-color: #d4ebff;}#sk-container-id-1 div.sk-serial::before {content: \"\";position: absolute;border-left: 1px solid gray;box-sizing: border-box;top: 0;bottom: 0;left: 50%;z-index: 0;}#sk-container-id-1 div.sk-serial {display: flex;flex-direction: column;align-items: center;background-color: white;padding-right: 0.2em;padding-left: 0.2em;position: relative;}#sk-container-id-1 div.sk-item {position: relative;z-index: 1;}#sk-container-id-1 div.sk-parallel {display: flex;align-items: stretch;justify-content: center;background-color: white;position: relative;}#sk-container-id-1 div.sk-item::before, #sk-container-id-1 div.sk-parallel-item::before {content: \"\";position: absolute;border-left: 1px solid gray;box-sizing: border-box;top: 0;bottom: 0;left: 50%;z-index: -1;}#sk-container-id-1 div.sk-parallel-item {display: flex;flex-direction: column;z-index: 1;position: relative;background-color: white;}#sk-container-id-1 div.sk-parallel-item:first-child::after {align-self: flex-end;width: 50%;}#sk-container-id-1 div.sk-parallel-item:last-child::after {align-self: flex-start;width: 50%;}#sk-container-id-1 div.sk-parallel-item:only-child::after {width: 0;}#sk-container-id-1 div.sk-dashed-wrapped {border: 1px dashed gray;margin: 0 0.4em 0.5em 0.4em;box-sizing: border-box;padding-bottom: 0.4em;background-color: white;}#sk-container-id-1 div.sk-label label {font-family: monospace;font-weight: bold;display: inline-block;line-height: 1.2em;}#sk-container-id-1 div.sk-label-container {text-align: center;}#sk-container-id-1 div.sk-container {/* jupyter's `normalize.less` sets `[hidden] { display: none; }` but bootstrap.min.css set `[hidden] { display: none !important; }` so we also need the `!important` here to be able to override the default hidden behavior on the sphinx rendered scikit-learn.org. See: https://github.com/scikit-learn/scikit-learn/issues/21755 */display: inline-block !important;position: relative;}#sk-container-id-1 div.sk-text-repr-fallback {display: none;}</style><div id=\"sk-container-id-1\" class=\"sk-top-container\"><div class=\"sk-text-repr-fallback\"><pre>OneHotEncoder(handle_unknown=&#x27;ignore&#x27;)</pre><b>In a Jupyter environment, please rerun this cell to show the HTML representation or trust the notebook. <br />On GitHub, the HTML representation is unable to render, please try loading this page with nbviewer.org.</b></div><div class=\"sk-container\" hidden><div class=\"sk-item\"><div class=\"sk-estimator sk-toggleable\"><input class=\"sk-toggleable__control sk-hidden--visually\" id=\"sk-estimator-id-1\" type=\"checkbox\" checked><label for=\"sk-estimator-id-1\" class=\"sk-toggleable__label sk-toggleable__label-arrow\">OneHotEncoder</label><div class=\"sk-toggleable__content\"><pre>OneHotEncoder(handle_unknown=&#x27;ignore&#x27;)</pre></div></div></div></div></div>"
      ],
      "text/plain": [
       "OneHotEncoder(handle_unknown='ignore')"
      ]
     },
     "execution_count": 36,
     "metadata": {},
     "output_type": "execute_result"
    }
   ],
   "source": [
    "ohe=OneHotEncoder(handle_unknown='ignore')\n",
    "ohe.fit(X[['Vehicle_Type','Company','Vehicle_Name','Fuel_Type','Seller_Type','Transmission']])"
   ]
  },
  {
   "cell_type": "code",
   "execution_count": 37,
   "id": "29779fbf",
   "metadata": {},
   "outputs": [],
   "source": [
    "from sklearn.compose import make_column_transformer\n",
    "from sklearn.pipeline import make_pipeline"
   ]
  },
  {
   "cell_type": "code",
   "execution_count": 38,
   "id": "5a62dfed",
   "metadata": {},
   "outputs": [
    {
     "data": {
      "text/plain": [
       "[array(['Car', 'Motorbike', 'Scooter'], dtype=object),\n",
       " array(['Bajaj', 'Bajaj ', 'Bajaj Avenger', 'Hero', 'Hero ', 'Hero  ',\n",
       "        'Hero Honda', 'Honda', 'Honda ', 'Hyosung Motors', 'Hyundai',\n",
       "        'KTM', 'Mahindra', 'Maruti Suzuki', 'Royal Enfield', 'Suzuki',\n",
       "        'TVS', 'Toyota', 'UM Motorcycles', 'Yamaha', 'Yamaha '],\n",
       "       dtype=object),\n",
       " array(['Activa 125', 'Activa 3g', 'Activa 4G', 'Activa 4g',\n",
       "        'Bajaj  ct 100', 'Bajaj Avenger 150', 'Bajaj Avenger 150 street',\n",
       "        'Bajaj Avenger 220', 'Bajaj Avenger 220 dtsi',\n",
       "        'Bajaj Avenger Street 220', 'Bajaj Discover 100',\n",
       "        'Bajaj Discover 125', 'Bajaj Dominar 400', 'Bajaj Pulsar  NS 200',\n",
       "        'Bajaj Pulsar 135 LS', 'Bajaj Pulsar 150', 'Bajaj Pulsar 220 F',\n",
       "        'Bajaj Pulsar NS 200', 'Bajaj Pulsar RS200', 'Hero  CBZ Xtreme',\n",
       "        'Hero  Ignitor Disc', 'Hero Extreme', 'Hero Glamour',\n",
       "        'Hero Honda CBZ extreme', 'Hero Honda Passion Pro', 'Hero Hunk',\n",
       "        'Hero Passion Pro', 'Hero Passion X pro', 'Hero Splender Plus',\n",
       "        'Hero Splender iSmart', 'Hero Super Splendor',\n",
       "        'Honda CB Hornet 160R', 'Honda CB Shine', 'Honda CB Trigger',\n",
       "        'Honda CB Unicorn', 'Honda CB twister', 'Honda CBR 150',\n",
       "        'Honda Dream Yuga', 'Honda Karizma', 'Hyosung GT250R',\n",
       "        'KTM 390 Duke', 'KTM RC200', 'KTM RC390', 'Mahindra Mojo XT300',\n",
       "        'Royal Enfield Bullet 350', 'Royal Enfield Classic 350',\n",
       "        'Royal Enfield Classic 500', 'Royal Enfield Thunder 350',\n",
       "        'Royal Enfield Thunder 500', 'Suzuki Access 125',\n",
       "        'TVS Apache RTR 160', 'TVS Apache RTR 180', 'TVS Jupyter',\n",
       "        'TVS Sport', 'TVS Wego', 'UM Renegade Mojave', 'Yamaha FZ  v 2.0',\n",
       "        'Yamaha FZ 16', 'Yamaha FZ S', 'Yamaha FZ S V 2.0', 'Yamaha Fazer',\n",
       "        'alto 800', 'alto k10', 'amaze', 'baleno', 'brio', 'camry', 'ciaz',\n",
       "        'city', 'corolla', 'corolla altis', 'creta', 'dzire', 'elantra',\n",
       "        'eon', 'ertiga', 'etios cross', 'etios g', 'etios liva',\n",
       "        'fortuner', 'grand i10', 'i10', 'i20', 'ignis', 'innova', 'jazz',\n",
       "        'land cruiser', 'omni', 'ritz', 's cross', 'swift', 'sx4', 'verna',\n",
       "        'vitara brezza', 'wagon r', 'xcent'], dtype=object),\n",
       " array(['CNG', 'Diesel', 'Petrol'], dtype=object),\n",
       " array(['Dealer', 'Individual'], dtype=object),\n",
       " array(['Automatic', 'Manual'], dtype=object)]"
      ]
     },
     "execution_count": 38,
     "metadata": {},
     "output_type": "execute_result"
    }
   ],
   "source": [
    "ohe.categories_"
   ]
  },
  {
   "cell_type": "code",
   "execution_count": 39,
   "id": "ad5a823b",
   "metadata": {},
   "outputs": [],
   "source": [
    "column_transformer= make_column_transformer((OneHotEncoder(categories=ohe.categories_),['Vehicle_Type','Company','Vehicle_Name','Fuel_Type','Seller_Type','Transmission']),\n",
    "                                            remainder='passthrough')"
   ]
  },
  {
   "cell_type": "code",
   "execution_count": 40,
   "id": "d2a54876",
   "metadata": {},
   "outputs": [],
   "source": [
    "# Applying Linear Regression"
   ]
  },
  {
   "cell_type": "code",
   "execution_count": 41,
   "id": "e6b2f3d9",
   "metadata": {},
   "outputs": [],
   "source": [
    "from sklearn.linear_model import LinearRegression\n",
    "model=LinearRegression()"
   ]
  },
  {
   "cell_type": "code",
   "execution_count": 42,
   "id": "b01d46a2",
   "metadata": {},
   "outputs": [],
   "source": [
    "pipe=make_pipeline(column_transformer,model)"
   ]
  },
  {
   "cell_type": "code",
   "execution_count": 43,
   "id": "b15a268e",
   "metadata": {},
   "outputs": [
    {
     "data": {
      "text/html": [
       "<style>#sk-container-id-2 {color: black;}#sk-container-id-2 pre{padding: 0;}#sk-container-id-2 div.sk-toggleable {background-color: white;}#sk-container-id-2 label.sk-toggleable__label {cursor: pointer;display: block;width: 100%;margin-bottom: 0;padding: 0.3em;box-sizing: border-box;text-align: center;}#sk-container-id-2 label.sk-toggleable__label-arrow:before {content: \"▸\";float: left;margin-right: 0.25em;color: #696969;}#sk-container-id-2 label.sk-toggleable__label-arrow:hover:before {color: black;}#sk-container-id-2 div.sk-estimator:hover label.sk-toggleable__label-arrow:before {color: black;}#sk-container-id-2 div.sk-toggleable__content {max-height: 0;max-width: 0;overflow: hidden;text-align: left;background-color: #f0f8ff;}#sk-container-id-2 div.sk-toggleable__content pre {margin: 0.2em;color: black;border-radius: 0.25em;background-color: #f0f8ff;}#sk-container-id-2 input.sk-toggleable__control:checked~div.sk-toggleable__content {max-height: 200px;max-width: 100%;overflow: auto;}#sk-container-id-2 input.sk-toggleable__control:checked~label.sk-toggleable__label-arrow:before {content: \"▾\";}#sk-container-id-2 div.sk-estimator input.sk-toggleable__control:checked~label.sk-toggleable__label {background-color: #d4ebff;}#sk-container-id-2 div.sk-label input.sk-toggleable__control:checked~label.sk-toggleable__label {background-color: #d4ebff;}#sk-container-id-2 input.sk-hidden--visually {border: 0;clip: rect(1px 1px 1px 1px);clip: rect(1px, 1px, 1px, 1px);height: 1px;margin: -1px;overflow: hidden;padding: 0;position: absolute;width: 1px;}#sk-container-id-2 div.sk-estimator {font-family: monospace;background-color: #f0f8ff;border: 1px dotted black;border-radius: 0.25em;box-sizing: border-box;margin-bottom: 0.5em;}#sk-container-id-2 div.sk-estimator:hover {background-color: #d4ebff;}#sk-container-id-2 div.sk-parallel-item::after {content: \"\";width: 100%;border-bottom: 1px solid gray;flex-grow: 1;}#sk-container-id-2 div.sk-label:hover label.sk-toggleable__label {background-color: #d4ebff;}#sk-container-id-2 div.sk-serial::before {content: \"\";position: absolute;border-left: 1px solid gray;box-sizing: border-box;top: 0;bottom: 0;left: 50%;z-index: 0;}#sk-container-id-2 div.sk-serial {display: flex;flex-direction: column;align-items: center;background-color: white;padding-right: 0.2em;padding-left: 0.2em;position: relative;}#sk-container-id-2 div.sk-item {position: relative;z-index: 1;}#sk-container-id-2 div.sk-parallel {display: flex;align-items: stretch;justify-content: center;background-color: white;position: relative;}#sk-container-id-2 div.sk-item::before, #sk-container-id-2 div.sk-parallel-item::before {content: \"\";position: absolute;border-left: 1px solid gray;box-sizing: border-box;top: 0;bottom: 0;left: 50%;z-index: -1;}#sk-container-id-2 div.sk-parallel-item {display: flex;flex-direction: column;z-index: 1;position: relative;background-color: white;}#sk-container-id-2 div.sk-parallel-item:first-child::after {align-self: flex-end;width: 50%;}#sk-container-id-2 div.sk-parallel-item:last-child::after {align-self: flex-start;width: 50%;}#sk-container-id-2 div.sk-parallel-item:only-child::after {width: 0;}#sk-container-id-2 div.sk-dashed-wrapped {border: 1px dashed gray;margin: 0 0.4em 0.5em 0.4em;box-sizing: border-box;padding-bottom: 0.4em;background-color: white;}#sk-container-id-2 div.sk-label label {font-family: monospace;font-weight: bold;display: inline-block;line-height: 1.2em;}#sk-container-id-2 div.sk-label-container {text-align: center;}#sk-container-id-2 div.sk-container {/* jupyter's `normalize.less` sets `[hidden] { display: none; }` but bootstrap.min.css set `[hidden] { display: none !important; }` so we also need the `!important` here to be able to override the default hidden behavior on the sphinx rendered scikit-learn.org. See: https://github.com/scikit-learn/scikit-learn/issues/21755 */display: inline-block !important;position: relative;}#sk-container-id-2 div.sk-text-repr-fallback {display: none;}</style><div id=\"sk-container-id-2\" class=\"sk-top-container\"><div class=\"sk-text-repr-fallback\"><pre>Pipeline(steps=[(&#x27;columntransformer&#x27;,\n",
       "                 ColumnTransformer(remainder=&#x27;passthrough&#x27;,\n",
       "                                   transformers=[(&#x27;onehotencoder&#x27;,\n",
       "                                                  OneHotEncoder(categories=[array([&#x27;Car&#x27;, &#x27;Motorbike&#x27;, &#x27;Scooter&#x27;], dtype=object),\n",
       "                                                                            array([&#x27;Bajaj&#x27;, &#x27;Bajaj &#x27;, &#x27;Bajaj Avenger&#x27;, &#x27;Hero&#x27;, &#x27;Hero &#x27;, &#x27;Hero  &#x27;,\n",
       "       &#x27;Hero Honda&#x27;, &#x27;Honda&#x27;, &#x27;Honda &#x27;, &#x27;Hyosung Motors&#x27;, &#x27;Hyundai&#x27;,\n",
       "       &#x27;KTM&#x27;, &#x27;Mahindra&#x27;, &#x27;Maruti Suzuki&#x27;, &#x27;Royal Enfield&#x27;, &#x27;Suz...\n",
       "       &#x27;land cruiser&#x27;, &#x27;omni&#x27;, &#x27;ritz&#x27;, &#x27;s cross&#x27;, &#x27;swift&#x27;, &#x27;sx4&#x27;, &#x27;verna&#x27;,\n",
       "       &#x27;vitara brezza&#x27;, &#x27;wagon r&#x27;, &#x27;xcent&#x27;], dtype=object),\n",
       "                                                                            array([&#x27;CNG&#x27;, &#x27;Diesel&#x27;, &#x27;Petrol&#x27;], dtype=object),\n",
       "                                                                            array([&#x27;Dealer&#x27;, &#x27;Individual&#x27;], dtype=object),\n",
       "                                                                            array([&#x27;Automatic&#x27;, &#x27;Manual&#x27;], dtype=object)]),\n",
       "                                                  [&#x27;Vehicle_Type&#x27;, &#x27;Company&#x27;,\n",
       "                                                   &#x27;Vehicle_Name&#x27;, &#x27;Fuel_Type&#x27;,\n",
       "                                                   &#x27;Seller_Type&#x27;,\n",
       "                                                   &#x27;Transmission&#x27;])])),\n",
       "                (&#x27;linearregression&#x27;, LinearRegression())])</pre><b>In a Jupyter environment, please rerun this cell to show the HTML representation or trust the notebook. <br />On GitHub, the HTML representation is unable to render, please try loading this page with nbviewer.org.</b></div><div class=\"sk-container\" hidden><div class=\"sk-item sk-dashed-wrapped\"><div class=\"sk-label-container\"><div class=\"sk-label sk-toggleable\"><input class=\"sk-toggleable__control sk-hidden--visually\" id=\"sk-estimator-id-2\" type=\"checkbox\" ><label for=\"sk-estimator-id-2\" class=\"sk-toggleable__label sk-toggleable__label-arrow\">Pipeline</label><div class=\"sk-toggleable__content\"><pre>Pipeline(steps=[(&#x27;columntransformer&#x27;,\n",
       "                 ColumnTransformer(remainder=&#x27;passthrough&#x27;,\n",
       "                                   transformers=[(&#x27;onehotencoder&#x27;,\n",
       "                                                  OneHotEncoder(categories=[array([&#x27;Car&#x27;, &#x27;Motorbike&#x27;, &#x27;Scooter&#x27;], dtype=object),\n",
       "                                                                            array([&#x27;Bajaj&#x27;, &#x27;Bajaj &#x27;, &#x27;Bajaj Avenger&#x27;, &#x27;Hero&#x27;, &#x27;Hero &#x27;, &#x27;Hero  &#x27;,\n",
       "       &#x27;Hero Honda&#x27;, &#x27;Honda&#x27;, &#x27;Honda &#x27;, &#x27;Hyosung Motors&#x27;, &#x27;Hyundai&#x27;,\n",
       "       &#x27;KTM&#x27;, &#x27;Mahindra&#x27;, &#x27;Maruti Suzuki&#x27;, &#x27;Royal Enfield&#x27;, &#x27;Suz...\n",
       "       &#x27;land cruiser&#x27;, &#x27;omni&#x27;, &#x27;ritz&#x27;, &#x27;s cross&#x27;, &#x27;swift&#x27;, &#x27;sx4&#x27;, &#x27;verna&#x27;,\n",
       "       &#x27;vitara brezza&#x27;, &#x27;wagon r&#x27;, &#x27;xcent&#x27;], dtype=object),\n",
       "                                                                            array([&#x27;CNG&#x27;, &#x27;Diesel&#x27;, &#x27;Petrol&#x27;], dtype=object),\n",
       "                                                                            array([&#x27;Dealer&#x27;, &#x27;Individual&#x27;], dtype=object),\n",
       "                                                                            array([&#x27;Automatic&#x27;, &#x27;Manual&#x27;], dtype=object)]),\n",
       "                                                  [&#x27;Vehicle_Type&#x27;, &#x27;Company&#x27;,\n",
       "                                                   &#x27;Vehicle_Name&#x27;, &#x27;Fuel_Type&#x27;,\n",
       "                                                   &#x27;Seller_Type&#x27;,\n",
       "                                                   &#x27;Transmission&#x27;])])),\n",
       "                (&#x27;linearregression&#x27;, LinearRegression())])</pre></div></div></div><div class=\"sk-serial\"><div class=\"sk-item sk-dashed-wrapped\"><div class=\"sk-label-container\"><div class=\"sk-label sk-toggleable\"><input class=\"sk-toggleable__control sk-hidden--visually\" id=\"sk-estimator-id-3\" type=\"checkbox\" ><label for=\"sk-estimator-id-3\" class=\"sk-toggleable__label sk-toggleable__label-arrow\">columntransformer: ColumnTransformer</label><div class=\"sk-toggleable__content\"><pre>ColumnTransformer(remainder=&#x27;passthrough&#x27;,\n",
       "                  transformers=[(&#x27;onehotencoder&#x27;,\n",
       "                                 OneHotEncoder(categories=[array([&#x27;Car&#x27;, &#x27;Motorbike&#x27;, &#x27;Scooter&#x27;], dtype=object),\n",
       "                                                           array([&#x27;Bajaj&#x27;, &#x27;Bajaj &#x27;, &#x27;Bajaj Avenger&#x27;, &#x27;Hero&#x27;, &#x27;Hero &#x27;, &#x27;Hero  &#x27;,\n",
       "       &#x27;Hero Honda&#x27;, &#x27;Honda&#x27;, &#x27;Honda &#x27;, &#x27;Hyosung Motors&#x27;, &#x27;Hyundai&#x27;,\n",
       "       &#x27;KTM&#x27;, &#x27;Mahindra&#x27;, &#x27;Maruti Suzuki&#x27;, &#x27;Royal Enfield&#x27;, &#x27;Suzuki&#x27;,\n",
       "       &#x27;TVS&#x27;, &#x27;Toyota&#x27;, &#x27;UM Motorcycles&#x27;, &#x27;...\n",
       "       &#x27;fortuner&#x27;, &#x27;grand i10&#x27;, &#x27;i10&#x27;, &#x27;i20&#x27;, &#x27;ignis&#x27;, &#x27;innova&#x27;, &#x27;jazz&#x27;,\n",
       "       &#x27;land cruiser&#x27;, &#x27;omni&#x27;, &#x27;ritz&#x27;, &#x27;s cross&#x27;, &#x27;swift&#x27;, &#x27;sx4&#x27;, &#x27;verna&#x27;,\n",
       "       &#x27;vitara brezza&#x27;, &#x27;wagon r&#x27;, &#x27;xcent&#x27;], dtype=object),\n",
       "                                                           array([&#x27;CNG&#x27;, &#x27;Diesel&#x27;, &#x27;Petrol&#x27;], dtype=object),\n",
       "                                                           array([&#x27;Dealer&#x27;, &#x27;Individual&#x27;], dtype=object),\n",
       "                                                           array([&#x27;Automatic&#x27;, &#x27;Manual&#x27;], dtype=object)]),\n",
       "                                 [&#x27;Vehicle_Type&#x27;, &#x27;Company&#x27;, &#x27;Vehicle_Name&#x27;,\n",
       "                                  &#x27;Fuel_Type&#x27;, &#x27;Seller_Type&#x27;,\n",
       "                                  &#x27;Transmission&#x27;])])</pre></div></div></div><div class=\"sk-parallel\"><div class=\"sk-parallel-item\"><div class=\"sk-item\"><div class=\"sk-label-container\"><div class=\"sk-label sk-toggleable\"><input class=\"sk-toggleable__control sk-hidden--visually\" id=\"sk-estimator-id-4\" type=\"checkbox\" ><label for=\"sk-estimator-id-4\" class=\"sk-toggleable__label sk-toggleable__label-arrow\">onehotencoder</label><div class=\"sk-toggleable__content\"><pre>[&#x27;Vehicle_Type&#x27;, &#x27;Company&#x27;, &#x27;Vehicle_Name&#x27;, &#x27;Fuel_Type&#x27;, &#x27;Seller_Type&#x27;, &#x27;Transmission&#x27;]</pre></div></div></div><div class=\"sk-serial\"><div class=\"sk-item\"><div class=\"sk-estimator sk-toggleable\"><input class=\"sk-toggleable__control sk-hidden--visually\" id=\"sk-estimator-id-5\" type=\"checkbox\" ><label for=\"sk-estimator-id-5\" class=\"sk-toggleable__label sk-toggleable__label-arrow\">OneHotEncoder</label><div class=\"sk-toggleable__content\"><pre>OneHotEncoder(categories=[array([&#x27;Car&#x27;, &#x27;Motorbike&#x27;, &#x27;Scooter&#x27;], dtype=object),\n",
       "                          array([&#x27;Bajaj&#x27;, &#x27;Bajaj &#x27;, &#x27;Bajaj Avenger&#x27;, &#x27;Hero&#x27;, &#x27;Hero &#x27;, &#x27;Hero  &#x27;,\n",
       "       &#x27;Hero Honda&#x27;, &#x27;Honda&#x27;, &#x27;Honda &#x27;, &#x27;Hyosung Motors&#x27;, &#x27;Hyundai&#x27;,\n",
       "       &#x27;KTM&#x27;, &#x27;Mahindra&#x27;, &#x27;Maruti Suzuki&#x27;, &#x27;Royal Enfield&#x27;, &#x27;Suzuki&#x27;,\n",
       "       &#x27;TVS&#x27;, &#x27;Toyota&#x27;, &#x27;UM Motorcycles&#x27;, &#x27;Yamaha&#x27;, &#x27;Yamaha &#x27;],\n",
       "      dtype=object),\n",
       "                          array([&#x27;Activa 125&#x27;, &#x27;Activa 3g&#x27;, &#x27;Activa 4G&#x27;,...\n",
       "       &#x27;city&#x27;, &#x27;corolla&#x27;, &#x27;corolla altis&#x27;, &#x27;creta&#x27;, &#x27;dzire&#x27;, &#x27;elantra&#x27;,\n",
       "       &#x27;eon&#x27;, &#x27;ertiga&#x27;, &#x27;etios cross&#x27;, &#x27;etios g&#x27;, &#x27;etios liva&#x27;,\n",
       "       &#x27;fortuner&#x27;, &#x27;grand i10&#x27;, &#x27;i10&#x27;, &#x27;i20&#x27;, &#x27;ignis&#x27;, &#x27;innova&#x27;, &#x27;jazz&#x27;,\n",
       "       &#x27;land cruiser&#x27;, &#x27;omni&#x27;, &#x27;ritz&#x27;, &#x27;s cross&#x27;, &#x27;swift&#x27;, &#x27;sx4&#x27;, &#x27;verna&#x27;,\n",
       "       &#x27;vitara brezza&#x27;, &#x27;wagon r&#x27;, &#x27;xcent&#x27;], dtype=object),\n",
       "                          array([&#x27;CNG&#x27;, &#x27;Diesel&#x27;, &#x27;Petrol&#x27;], dtype=object),\n",
       "                          array([&#x27;Dealer&#x27;, &#x27;Individual&#x27;], dtype=object),\n",
       "                          array([&#x27;Automatic&#x27;, &#x27;Manual&#x27;], dtype=object)])</pre></div></div></div></div></div></div><div class=\"sk-parallel-item\"><div class=\"sk-item\"><div class=\"sk-label-container\"><div class=\"sk-label sk-toggleable\"><input class=\"sk-toggleable__control sk-hidden--visually\" id=\"sk-estimator-id-6\" type=\"checkbox\" ><label for=\"sk-estimator-id-6\" class=\"sk-toggleable__label sk-toggleable__label-arrow\">remainder</label><div class=\"sk-toggleable__content\"><pre>[&#x27;Year&#x27;, &#x27;Present_Price&#x27;, &#x27;Kms_Driven&#x27;, &#x27;Owner&#x27;]</pre></div></div></div><div class=\"sk-serial\"><div class=\"sk-item\"><div class=\"sk-estimator sk-toggleable\"><input class=\"sk-toggleable__control sk-hidden--visually\" id=\"sk-estimator-id-7\" type=\"checkbox\" ><label for=\"sk-estimator-id-7\" class=\"sk-toggleable__label sk-toggleable__label-arrow\">passthrough</label><div class=\"sk-toggleable__content\"><pre>passthrough</pre></div></div></div></div></div></div></div></div><div class=\"sk-item\"><div class=\"sk-estimator sk-toggleable\"><input class=\"sk-toggleable__control sk-hidden--visually\" id=\"sk-estimator-id-8\" type=\"checkbox\" ><label for=\"sk-estimator-id-8\" class=\"sk-toggleable__label sk-toggleable__label-arrow\">LinearRegression</label><div class=\"sk-toggleable__content\"><pre>LinearRegression()</pre></div></div></div></div></div></div></div>"
      ],
      "text/plain": [
       "Pipeline(steps=[('columntransformer',\n",
       "                 ColumnTransformer(remainder='passthrough',\n",
       "                                   transformers=[('onehotencoder',\n",
       "                                                  OneHotEncoder(categories=[array(['Car', 'Motorbike', 'Scooter'], dtype=object),\n",
       "                                                                            array(['Bajaj', 'Bajaj ', 'Bajaj Avenger', 'Hero', 'Hero ', 'Hero  ',\n",
       "       'Hero Honda', 'Honda', 'Honda ', 'Hyosung Motors', 'Hyundai',\n",
       "       'KTM', 'Mahindra', 'Maruti Suzuki', 'Royal Enfield', 'Suz...\n",
       "       'land cruiser', 'omni', 'ritz', 's cross', 'swift', 'sx4', 'verna',\n",
       "       'vitara brezza', 'wagon r', 'xcent'], dtype=object),\n",
       "                                                                            array(['CNG', 'Diesel', 'Petrol'], dtype=object),\n",
       "                                                                            array(['Dealer', 'Individual'], dtype=object),\n",
       "                                                                            array(['Automatic', 'Manual'], dtype=object)]),\n",
       "                                                  ['Vehicle_Type', 'Company',\n",
       "                                                   'Vehicle_Name', 'Fuel_Type',\n",
       "                                                   'Seller_Type',\n",
       "                                                   'Transmission'])])),\n",
       "                ('linearregression', LinearRegression())])"
      ]
     },
     "execution_count": 43,
     "metadata": {},
     "output_type": "execute_result"
    }
   ],
   "source": [
    "pipe.fit(X_train,y_train)"
   ]
  },
  {
   "cell_type": "code",
   "execution_count": 44,
   "id": "c741c919",
   "metadata": {},
   "outputs": [],
   "source": [
    "# Predicting values"
   ]
  },
  {
   "cell_type": "code",
   "execution_count": 45,
   "id": "f19cc15a",
   "metadata": {},
   "outputs": [],
   "source": [
    "y_predictions=pipe.predict(X_test)"
   ]
  },
  {
   "cell_type": "code",
   "execution_count": 46,
   "id": "d1eeb0c5",
   "metadata": {},
   "outputs": [
    {
     "data": {
      "text/plain": [
       "array([ 0.91681689,  4.11726882,  0.21054748,  1.80342402,  2.80567356,\n",
       "        2.15623181,  0.22921305,  3.52805808, 18.92863552,  6.09105007,\n",
       "       -1.67424686, 53.02490632,  1.39863335,  4.12576842,  4.15040259,\n",
       "       18.85950097,  1.52746177,  0.69403887, -4.12447614,  7.54165652,\n",
       "        8.13517212,  3.68172134,  6.21529785,  0.26925482,  6.56258552,\n",
       "        8.49928163,  6.0165428 ,  9.08629561,  3.60910075,  6.12119711,\n",
       "        3.59533599,  6.40201097,  6.13788558, -0.18620431,  5.53239738,\n",
       "        0.73025719, 12.09027685,  5.92081789,  1.79108578,  9.59606721,\n",
       "        8.51022911,  5.18654911,  5.78983828,  8.67328969,  0.39957486,\n",
       "        3.77450917,  6.19234184,  4.51030826, 11.96835876,  1.13001146,\n",
       "        5.99706057, -2.34979426,  5.14788509, 15.64975468,  3.53369977,\n",
       "        5.30319032,  7.24440173,  4.85467049, -0.3536681 ,  9.06421807,\n",
       "        0.78318804])"
      ]
     },
     "execution_count": 46,
     "metadata": {},
     "output_type": "execute_result"
    }
   ],
   "source": [
    "y_predictions"
   ]
  },
  {
   "cell_type": "code",
   "execution_count": 47,
   "id": "c6c0d5a4",
   "metadata": {},
   "outputs": [],
   "source": [
    "# Error Metrics"
   ]
  },
  {
   "cell_type": "code",
   "execution_count": 48,
   "id": "428d8aec",
   "metadata": {},
   "outputs": [],
   "source": [
    "from sklearn.metrics import mean_absolute_error,r2_score"
   ]
  },
  {
   "cell_type": "code",
   "execution_count": 49,
   "id": "a71653c6",
   "metadata": {},
   "outputs": [],
   "source": [
    "\n",
    "MAE= mean_absolute_error(y_test,y_predictions)\n",
    "R_squared=r2_score(y_test,y_predictions)\n",
    "\n",
    "n=len(y_test)\n",
    "p=X_test.shape[1]\n",
    "Adjusted_R_squared=1-(1-R_squared)*(n-1)/(n-p-1)"
   ]
  },
  {
   "cell_type": "code",
   "execution_count": 50,
   "id": "a375ff4a",
   "metadata": {},
   "outputs": [
    {
     "data": {
      "text/plain": [
       "0.7644318374986967"
      ]
     },
     "execution_count": 50,
     "metadata": {},
     "output_type": "execute_result"
    }
   ],
   "source": [
    "r2_score(y_test,y_predictions)"
   ]
  },
  {
   "cell_type": "code",
   "execution_count": 51,
   "id": "d6c1c290",
   "metadata": {},
   "outputs": [
    {
     "data": {
      "text/plain": [
       "0.7644318374986967"
      ]
     },
     "execution_count": 51,
     "metadata": {},
     "output_type": "execute_result"
    }
   ],
   "source": [
    "R_squared"
   ]
  },
  {
   "cell_type": "code",
   "execution_count": 52,
   "id": "f44772db",
   "metadata": {},
   "outputs": [
    {
     "data": {
      "text/plain": [
       "0.717318204998436"
      ]
     },
     "execution_count": 52,
     "metadata": {},
     "output_type": "execute_result"
    }
   ],
   "source": [
    "Adjusted_R_squared"
   ]
  },
  {
   "cell_type": "code",
   "execution_count": 53,
   "id": "d7a58079",
   "metadata": {},
   "outputs": [
    {
     "data": {
      "text/plain": [
       "1.4388947757397375"
      ]
     },
     "execution_count": 53,
     "metadata": {},
     "output_type": "execute_result"
    }
   ],
   "source": [
    "MAE"
   ]
  },
  {
   "cell_type": "code",
   "execution_count": 54,
   "id": "4838f8ee",
   "metadata": {},
   "outputs": [],
   "source": [
    "residuals= y_test- y_predictions"
   ]
  },
  {
   "cell_type": "code",
   "execution_count": 55,
   "id": "14083332",
   "metadata": {},
   "outputs": [
    {
     "data": {
      "text/plain": [
       "159   -0.466817\n",
       "217   -0.967269\n",
       "187    0.039453\n",
       "31     0.546576\n",
       "24     0.094326\n",
       "         ...   \n",
       "231    2.005598\n",
       "274    0.445330\n",
       "121    1.403668\n",
       "295   -0.514218\n",
       "153   -0.283188\n",
       "Name: Selling_Price, Length: 61, dtype: float64"
      ]
     },
     "execution_count": 55,
     "metadata": {},
     "output_type": "execute_result"
    }
   ],
   "source": [
    "residuals"
   ]
  },
  {
   "cell_type": "code",
   "execution_count": 56,
   "id": "c31a4765",
   "metadata": {},
   "outputs": [],
   "source": [
    "# Diagnostic Plots"
   ]
  },
  {
   "cell_type": "code",
   "execution_count": 57,
   "id": "f7b7685c",
   "metadata": {},
   "outputs": [
    {
     "data": {
      "image/png": "[encoded data removed]",
      "text/plain": [
       "<Figure size 1000x600 with 1 Axes>"
      ]
     },
     "metadata": {},
     "output_type": "display_data"
    }
   ],
   "source": [
    "# Distributions of Residuals\n",
    "from scipy import stats\n",
    "plt.figure(figsize=(10,6))\n",
    "sns.histplot(residuals,kde=True)\n",
    "plt.title('Distributions of Residuals')\n",
    "plt.xlabel('Residuals')\n",
    "plt.ylabel('Frequency')\n",
    "plt.show()"
   ]
  },
  {
   "cell_type": "code",
   "execution_count": 58,
   "id": "73d6983c",
   "metadata": {},
   "outputs": [
    {
     "data": {
      "image/png": "[encoded data removed]",
      "text/plain": [
       "<Figure size 1000x600 with 1 Axes>"
      ]
     },
     "metadata": {},
     "output_type": "display_data"
    }
   ],
   "source": [
    "from scipy import stats\n",
    "\n",
    "plt.figure(figsize=(10,6))\n",
    "stats.probplot(residuals,dist=\"norm\",plot=plt)\n",
    "plt.title('Q-Q plot')\n",
    "plt.xlabel('Theortical Quantiles')\n",
    "plt.ylabel('Ordered Residuals')\n",
    "plt.show()"
   ]
  },
  {
   "cell_type": "code",
   "execution_count": 59,
   "id": "1bea8023",
   "metadata": {},
   "outputs": [
    {
     "data": {
      "image/png": "[encoded data removed]",
      "text/plain": [
       "<Figure size 1000x600 with 1 Axes>"
      ]
     },
     "metadata": {},
     "output_type": "display_data"
    }
   ],
   "source": [
    "plt.figure(figsize=(10,6))\n",
    "plt.scatter(y_predictions,residuals,alpha=0.5)\n",
    "plt.axhline(y=0,color='r',linestyle='--')\n",
    "plt.title('Resiuals Vs Fitted Values plot')\n",
    "plt.xlabel('Predicted values')\n",
    "plt.ylabel('RESiduals')\n",
    "plt.show()"
   ]
  },
  {
   "cell_type": "code",
   "execution_count": 60,
   "id": "c1ae3501",
   "metadata": {},
   "outputs": [
    {
     "name": "stdout",
     "output_type": "stream",
     "text": [
      "0.8521768309854763 0\n",
      "0.8257930816989028 1\n",
      "0.940837104743114 2\n",
      "0.746560588156512 3\n",
      "0.8135929108244208 4\n",
      "0.629455710195245 5\n",
      "0.6863447760494942 6\n",
      "0.7300276486101083 7\n",
      "0.7614019268541428 8\n",
      "0.8325946402899066 9\n"
     ]
    }
   ],
   "source": [
    "for i in range(10):\n",
    "    X_train,X_test,y_train,y_test=train_test_split(X,y,test_size=0.2)\n",
    "    model=LinearRegression()\n",
    "    pipe=make_pipeline(column_transformer,model)\n",
    "    pipe.fit(X_train,y_train)\n",
    "    y_pred=pipe.predict(X_test)\n",
    "    print(r2_score(y_test,y_pred),i)"
   ]
  },
  {
   "cell_type": "code",
   "execution_count": 61,
   "id": "734734e0",
   "metadata": {},
   "outputs": [],
   "source": [
    "scores=[]\n",
    "for i in range(1000):\n",
    "    X_train,X_test,y_train,y_test=train_test_split(X,y,test_size=0.2,random_state=i)\n",
    "    model=LinearRegression()\n",
    "    pipe=make_pipeline(column_transformer,model)\n",
    "    pipe.fit(X_train,y_train)\n",
    "    y_pred=pipe.predict(X_test)\n",
    "    scores.append(r2_score(y_test,y_pred))"
   ]
  },
  {
   "cell_type": "code",
   "execution_count": 62,
   "id": "7a7249d8",
   "metadata": {},
   "outputs": [
    {
     "data": {
      "text/plain": [
       "737"
      ]
     },
     "execution_count": 62,
     "metadata": {},
     "output_type": "execute_result"
    }
   ],
   "source": [
    "np.argmax(scores)"
   ]
  },
  {
   "cell_type": "code",
   "execution_count": 63,
   "id": "6681ff7b",
   "metadata": {},
   "outputs": [
    {
     "data": {
      "text/plain": [
       "0.9478802674256865"
      ]
     },
     "execution_count": 63,
     "metadata": {},
     "output_type": "execute_result"
    }
   ],
   "source": [
    "scores[np.argmax(scores)]"
   ]
  },
  {
   "cell_type": "code",
   "execution_count": 64,
   "id": "bcf97121",
   "metadata": {},
   "outputs": [
    {
     "data": {
      "text/plain": [
       "0.9478802674256865"
      ]
     },
     "execution_count": 64,
     "metadata": {},
     "output_type": "execute_result"
    }
   ],
   "source": [
    "X_train,X_test,y_train,y_test=train_test_split(X,y,test_size=0.2,random_state=np.argmax(scores))\n",
    "model=LinearRegression()\n",
    "pipe=make_pipeline(column_transformer,model)\n",
    "pipe.fit(X_train,y_train)\n",
    "y_pred=pipe.predict(X_test)\n",
    "r2_score(y_test,y_pred)"
   ]
  },
  {
   "cell_type": "code",
   "execution_count": 65,
   "id": "083e4b48",
   "metadata": {},
   "outputs": [],
   "source": [
    "import pickle"
   ]
  },
  {
   "cell_type": "code",
   "execution_count": 66,
   "id": "fcbaf2c2",
   "metadata": {},
   "outputs": [],
   "source": [
    "pickle.dump(pipe,open('Linear_Regression_Model.pkl', 'wb'))"
   ]
  },
  {
   "cell_type": "code",
   "execution_count": 67,
   "id": "8c2b0493",
   "metadata": {},
   "outputs": [
    {
     "data": {
      "text/plain": [
       "array([5.93351363])"
      ]
     },
     "execution_count": 67,
     "metadata": {},
     "output_type": "execute_result"
    }
   ],
   "source": [
    "pipe.predict(pd.DataFrame([['Car','Maruti Suzuki','swift',2014,6.87,42450,'Diesel','Dealer','Manual',0]],columns=['Vehicle_Type','Company','Vehicle_Name','Year','Present_Price','Kms_Driven','Fuel_Type','Seller_Type','Transmission','Owner']))"
   ]
  },
  {
   "cell_type": "code",
   "execution_count": null,
   "id": "4ef5b4fa",
   "metadata": {},
   "outputs": [],
   "source": []
  }
 ],
 "metadata": {
  "kernelspec": {
   "display_name": "Python 3 (ipykernel)",
   "language": "python",
   "name": "python3"
  },
  "language_info": {
   "codemirror_mode": {
    "name": "ipython",
    "version": 3
   },
   "file_extension": ".py",
   "mimetype": "text/x-python",
   "name": "python",
   "nbconvert_exporter": "python",
   "pygments_lexer": "ipython3",
   "version": "3.11.5"
  }
 },
 "nbformat": 4,
 "nbformat_minor": 5
}
